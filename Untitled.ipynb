{
 "cells": [
  {
   "cell_type": "code",
   "execution_count": 13,
   "id": "59a067ca-8d1e-485e-bb33-78f904dd0ce0",
   "metadata": {},
   "outputs": [
    {
     "name": "stdout",
     "output_type": "stream",
     "text": [
      "[0.1 0.2 0.3]\n",
      "0.20903903096074486\n"
     ]
    }
   ],
   "source": [
    "import numpy as np\n",
    "\n",
    "# Sample data (input sequence)\n",
    "x = np.array([0.1, 0.2, 0.3])\n",
    "\n",
    "# Initial hidden state\n",
    "h0 = 0.0\n",
    "\n",
    "# Weights and biases\n",
    "W_x = 0.5\n",
    "W_h = 0.5\n",
    "b_h = 0.0\n",
    "W_y = 1.0\n",
    "b_y = 0.0\n",
    "\n",
    "# True output (for simplicity, assume a desired output sequence)\n",
    "y_true = np.array([0.2, 0.4, 0.6])\n",
    "print(x)\n",
    "print(y)"
   ]
  },
  {
   "cell_type": "code",
   "execution_count": 3,
   "id": "71b6d209-78e2-463d-b7f9-f7a12b510a51",
   "metadata": {},
   "outputs": [
    {
     "name": "stdout",
     "output_type": "stream",
     "text": [
      "Hidden states: [0.04995837 0.12433251 0.20903903]\n",
      "Outputs: [0.04995837 0.12433251 0.20903903]\n"
     ]
    }
   ],
   "source": [
    "# Initialize hidden state\n",
    "h = h0\n",
    "\n",
    "# Forward pass\n",
    "hidden_states = []\n",
    "outputs = []\n",
    "for t in range(len(x)):\n",
    "    h = np.tanh(W_x * x[t] + W_h * h + b_h)  #tanh- tan formula\n",
    "    y = W_y * h + b_y\n",
    "    hidden_states.append(h)\n",
    "    outputs.append(y)\n",
    "\n",
    "hidden_states = np.array(hidden_states)\n",
    "outputs = np.array(outputs)\n",
    "\n",
    "print(\"Hidden states:\", hidden_states)\n",
    "print(\"Outputs:\", outputs)"
   ]
  },
  {
   "cell_type": "code",
   "execution_count": 5,
   "id": "4c3f3eb0-c54c-4068-a57b-8708fa4c551a",
   "metadata": {},
   "outputs": [
    {
     "name": "stdout",
     "output_type": "stream",
     "text": [
      "Loss: 0.08378517767647224\n"
     ]
    }
   ],
   "source": [
    "# Loss (Mean Squared Error)\n",
    "loss = np.mean((outputs - y_true) ** 2)\n",
    "print(\"Loss:\", loss)"
   ]
  },
  {
   "cell_type": "code",
   "execution_count": 19,
   "id": "02eb107b-c3f4-44f6-8841-0a6fe1331e47",
   "metadata": {},
   "outputs": [
    {
     "name": "stdout",
     "output_type": "stream",
     "text": [
      "[-0.10002775 -0.18377833 -0.26064065]\n",
      "Gradients:\n",
      "dL_dWy: -0.08233091265892165\n",
      "dL_dby: -0.5444467220306203\n",
      "dL_dWx: -0.16062445174417353\n",
      "dL_dWh: -0.04615923298359283\n",
      "dL_dbh: -0.8041053042318597\n"
     ]
    }
   ],
   "source": [
    "# Gradients initialization\n",
    "dL_dWy = 0.0\n",
    "dL_dby = 0.0\n",
    "dL_dWx = 0.0\n",
    "dL_dWh = 0.0   \n",
    "dL_dbh = 0.0\n",
    "\n",
    "# Gradient of the loss w.r.t. outputs\n",
    "dL_dy = 2 * (outputs - y_true) / len(y_true)\n",
    "print(dL_dy)\n",
    "\n",
    "# Backward pass\n",
    "dL_dh_next = 0.0\n",
    "for t in reversed(range(len(x))):\n",
    "    dL_dh = dL_dy[t] * W_y + dL_dh_next\n",
    "    dL_dh_raw = dL_dh * (1 - hidden_states[t] ** 2)\n",
    "    \n",
    "    dL_dWy += dL_dy[t] * hidden_states[t]\n",
    "    dL_dby += dL_dy[t]\n",
    "    \n",
    "    dL_dWx += dL_dh_raw * x[t]\n",
    "    dL_dWh += dL_dh_raw * (hidden_states[t-1] if t > 0 else h0)\n",
    "    dL_dbh += dL_dh_raw\n",
    "    \n",
    "    dL_dh_next = dL_dh_raw * W_h\n",
    "\n",
    "print(\"Gradients:\")\n",
    "print(\"dL_dWy:\", dL_dWy)\n",
    "print(\"dL_dby:\", dL_dby)\n",
    "print(\"dL_dWx:\", dL_dWx)\n",
    "print(\"dL_dWh:\", dL_dWh)\n",
    "print(\"dL_dbh:\", dL_dbh)"
   ]
  },
  {
   "cell_type": "code",
   "execution_count": 9,
   "id": "390110a0-08a5-4ec6-9373-4f02fe80cd49",
   "metadata": {},
   "outputs": [
    {
     "name": "stdout",
     "output_type": "stream",
     "text": [
      "Updated parameters:\n",
      "W_x: 0.5016062445174417\n",
      "W_h: 0.5004615923298359\n",
      "b_h: 0.008041053042318596\n",
      "W_y: 1.0008233091265892\n",
      "b_y: 0.005444467220306203\n"
     ]
    }
   ],
   "source": [
    "# Learning rate\n",
    "learning_rate = 0.01\n",
    "\n",
    "# Update weights and biases\n",
    "W_x -= learning_rate * dL_dWx\n",
    "W_h -= learning_rate * dL_dWh\n",
    "b_h -= learning_rate * dL_dbh\n",
    "W_y -= learning_rate * dL_dWy\n",
    "b_y -= learning_rate * dL_dby\n",
    "\n",
    "print(\"Updated parameters:\")\n",
    "print(\"W_x:\", W_x)\n",
    "print(\"W_h:\", W_h)\n",
    "print(\"b_h:\", b_h)\n",
    "print(\"W_y:\", W_y)\n",
    "print(\"b_y:\", b_y)"
   ]
  },
  {
   "cell_type": "code",
   "execution_count": null,
   "id": "e2d23928-f712-4ba5-8cb3-621e0edc6b29",
   "metadata": {},
   "outputs": [],
   "source": []
  }
 ],
 "metadata": {
  "kernelspec": {
   "display_name": "Python 3 (ipykernel)",
   "language": "python",
   "name": "python3"
  },
  "language_info": {
   "codemirror_mode": {
    "name": "ipython",
    "version": 3
   },
   "file_extension": ".py",
   "mimetype": "text/x-python",
   "name": "python",
   "nbconvert_exporter": "python",
   "pygments_lexer": "ipython3",
   "version": "3.12.4"
  }
 },
 "nbformat": 4,
 "nbformat_minor": 5
}
